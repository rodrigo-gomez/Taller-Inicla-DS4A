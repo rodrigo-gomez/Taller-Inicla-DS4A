{
 "cells": [
  {
   "cell_type": "markdown",
   "metadata": {},
   "source": [
    "EJERCICIOS Y TUTORIAL CON PYTHON\n",
    "\n",
    "Prueba 1"
   ]
  },
  {
   "cell_type": "code",
   "execution_count": 2,
   "metadata": {},
   "outputs": [
    {
     "name": "stdout",
     "output_type": "stream",
     "text": [
      "11\n"
     ]
    }
   ],
   "source": [
    "x=5\n",
    "y=7\n",
    "z=x+y-1\n",
    "print(z)"
   ]
  },
  {
   "cell_type": "markdown",
   "metadata": {},
   "source": [
    "Ejercicio 0 (10 min):\n",
    "0.1\n",
    "• Use Python para calcular la respuesta a 1675 - 886 e imprímala\n",
    "• Asigne su nombre a una variable de Python e imprímalo\n",
    "• Calcule el resultado de 65.4 + 7 - 6 + e imprímalo"
   ]
  },
  {
   "cell_type": "code",
   "execution_count": 5,
   "metadata": {},
   "outputs": [
    {
     "name": "stdout",
     "output_type": "stream",
     "text": [
      "789\n",
      "Rodrigo Antonio\n",
      "68.4\n"
     ]
    }
   ],
   "source": [
    "print(1675-886)\n",
    "nombre=\"Rodrigo Antonio\"\n",
    "print(nombre)\n",
    "var=65.4+7-6+2\n",
    "print(var)"
   ]
  },
  {
   "cell_type": "markdown",
   "metadata": {},
   "source": [
    "Multiplicación y Potencia"
   ]
  },
  {
   "cell_type": "code",
   "execution_count": 6,
   "metadata": {},
   "outputs": [
    {
     "name": "stdout",
     "output_type": "stream",
     "text": [
      "11\n",
      "25\n"
     ]
    }
   ],
   "source": [
    "x = 2\n",
    "y = 3\n",
    "print (x + y ** x)\n",
    "print((x+y)**x)"
   ]
  },
  {
   "cell_type": "markdown",
   "metadata": {},
   "source": [
    "Ahora inténtelo usted mismo. Asigne los valores 3, 4, 5 a tres variables diferentes llamadas a, b y c, y calcule\n",
    "los valores de\n",
    "• c al cuadrado\n",
    "• a al cuadrado + b al cuadrado"
   ]
  },
  {
   "cell_type": "code",
   "execution_count": 8,
   "metadata": {},
   "outputs": [
    {
     "name": "stdout",
     "output_type": "stream",
     "text": [
      "25\n",
      "25\n"
     ]
    }
   ],
   "source": [
    "a,b,c=3,4,5\n",
    "print(c**2)\n",
    "print(a**2+b**2)"
   ]
  },
  {
   "cell_type": "code",
   "execution_count": 9,
   "metadata": {},
   "outputs": [
    {
     "name": "stdout",
     "output_type": "stream",
     "text": [
      "{'Australia': [0.6, 0.33, 0.11, 0.14], 'France': [0.66, 0.78, 0.98, 0.2], 'Italy': [0.6], 'Brazil': [0.22, 0.22, 0.43], 'USA': [0.2, 0.5, 0.3], 'England': [0.45], 'Canada': [0.25, 0.3], 'Argentina': [0.22], 'Greece': [0.45, 0.66, 0.75, 0.99, 0.15, 0.66], 'Morocco': [0.29], 'Tunisia': [0.68, 0.56], 'Egypt': [0.99], 'Jamaica': [0.61, 0.65, 0.71], 'Switzerland': [0.73, 0.86, 0.84, 0.51, 0.99], 'Germany': [0.45, 0.49, 0.36]}\n"
     ]
    }
   ],
   "source": [
    "estimados_de_exito = {\n",
    "'Australia': [0.6, 0.33, 0.11, 0.14],\n",
    "'France': [0.66, 0.78, 0.98, 0.2],\n",
    "'Italy': [0.6],\n",
    "'Brazil': [0.22, 0.22, 0.43],\n",
    "'USA': [0.2, 0.5, 0.3],\n",
    "'England': [0.45],\n",
    "'Canada': [0.25, 0.3],\n",
    "'Argentina': [0.22],\n",
    "'Greece': [0.45, 0.66, 0.75, 0.99, 0.15, 0.66],\n",
    "'Morocco': [0.29],\n",
    "'Tunisia': [0.68, 0.56],\n",
    "'Egypt': [0.99],\n",
    "'Jamaica': [0.61, 0.65, 0.71],\n",
    "'Switzerland': [0.73, 0.86, 0.84, 0.51, 0.99],\n",
    "'Germany': [0.45, 0.49, 0.36]\n",
    "}\n",
    "print(estimados_de_exito)"
   ]
  },
  {
   "cell_type": "code",
   "execution_count": 10,
   "metadata": {},
   "outputs": [
    {
     "data": {
      "text/plain": [
       "dict_keys(['Australia', 'France', 'Italy', 'Brazil', 'USA', 'England', 'Canada', 'Argentina', 'Greece', 'Morocco', 'Tunisia', 'Egypt', 'Jamaica', 'Switzerland', 'Germany'])"
      ]
     },
     "execution_count": 10,
     "metadata": {},
     "output_type": "execute_result"
    }
   ],
   "source": [
    "# Miremos las llaves...\n",
    "estimados_de_exito.keys()"
   ]
  },
  {
   "cell_type": "code",
   "execution_count": 11,
   "metadata": {},
   "outputs": [
    {
     "data": {
      "text/plain": [
       "['Australia',\n",
       " 'France',\n",
       " 'Italy',\n",
       " 'Brazil',\n",
       " 'USA',\n",
       " 'England',\n",
       " 'Canada',\n",
       " 'Argentina',\n",
       " 'Greece',\n",
       " 'Morocco',\n",
       " 'Tunisia',\n",
       " 'Egypt',\n",
       " 'Jamaica',\n",
       " 'Switzerland',\n",
       " 'Germany']"
      ]
     },
     "execution_count": 11,
     "metadata": {},
     "output_type": "execute_result"
    }
   ],
   "source": [
    "# la palabra dict_keys significa el tipo de datos que son el diccionario. Para imprimir como lista\n",
    "list(estimados_de_exito.keys())"
   ]
  },
  {
   "cell_type": "code",
   "execution_count": 12,
   "metadata": {},
   "outputs": [
    {
     "data": {
      "text/plain": [
       "[[0.6, 0.33, 0.11, 0.14],\n",
       " [0.66, 0.78, 0.98, 0.2],\n",
       " [0.6],\n",
       " [0.22, 0.22, 0.43],\n",
       " [0.2, 0.5, 0.3],\n",
       " [0.45],\n",
       " [0.25, 0.3],\n",
       " [0.22],\n",
       " [0.45, 0.66, 0.75, 0.99, 0.15, 0.66],\n",
       " [0.29],\n",
       " [0.68, 0.56],\n",
       " [0.99],\n",
       " [0.61, 0.65, 0.71],\n",
       " [0.73, 0.86, 0.84, 0.51, 0.99],\n",
       " [0.45, 0.49, 0.36]]"
      ]
     },
     "execution_count": 12,
     "metadata": {},
     "output_type": "execute_result"
    }
   ],
   "source": [
    "# Tambien se puede ver las estimaciones de cada pais\n",
    "list(estimados_de_exito.values())"
   ]
  },
  {
   "cell_type": "code",
   "execution_count": 15,
   "metadata": {},
   "outputs": [
    {
     "name": "stdout",
     "output_type": "stream",
     "text": [
      "Comprobando si la llave de Marruecos (morocco) está presente:\n",
      "True\n",
      "Comprobación de la presencia de la llave de Japón:\n",
      "False\n"
     ]
    }
   ],
   "source": [
    "# Para comprobar si un elemento existe en un listado, diccionario está la función in:\n",
    "print('Comprobando si la llave de Marruecos (morocco) está presente:')\n",
    "print('Morocco' in estimados_de_exito)\n",
    "\n",
    "print('Comprobación de la presencia de la llave de Japón:')\n",
    "japan_boolean = 'Japan' in estimados_de_exito\n",
    "print(japan_boolean)"
   ]
  },
  {
   "cell_type": "markdown",
   "metadata": {},
   "source": [
    "Si desea verse un caso en particular, pude hacerse llmando el caso particular entre parentesiss cuadrados"
   ]
  },
  {
   "cell_type": "code",
   "execution_count": 16,
   "metadata": {},
   "outputs": [
    {
     "data": {
      "text/plain": [
       "[0.61, 0.65, 0.71]"
      ]
     },
     "execution_count": 16,
     "metadata": {},
     "output_type": "execute_result"
    }
   ],
   "source": [
    "estimados_de_exito['Jamaica']"
   ]
  },
  {
   "cell_type": "code",
   "execution_count": 17,
   "metadata": {},
   "outputs": [
    {
     "name": "stdout",
     "output_type": "stream",
     "text": [
      "[0.61, 0.65, 0.71]\n"
     ]
    }
   ],
   "source": [
    "#podemos guardar los casos particulares con otro nombre\n",
    "lista_de_jamaica = estimados_de_exito['Jamaica']\n",
    "print(lista_de_jamaica)"
   ]
  },
  {
   "cell_type": "code",
   "execution_count": 18,
   "metadata": {},
   "outputs": [
    {
     "name": "stdout",
     "output_type": "stream",
     "text": [
      "0.61\n",
      "0.65\n",
      "0.71\n"
     ]
    }
   ],
   "source": [
    "# Para llamar a cada elemento de una lista, se utilizan llaves cuadrados con la posición del elemento iniciando desde cero\n",
    "print(lista_de_jamaica[0]) # imprime el primer elemento de la lista\n",
    "print(lista_de_jamaica[1]) # imprime el segundo elemento de la lista\n",
    "print(lista_de_jamaica[2]) # imprime el tercer elemento de la lista"
   ]
  },
  {
   "cell_type": "code",
   "execution_count": 19,
   "metadata": {},
   "outputs": [
    {
     "name": "stdout",
     "output_type": "stream",
     "text": [
      "[0.65, 0.71]\n"
     ]
    }
   ],
   "source": [
    "# Tambian podemos llamar parte de la lista en vez de un solo elemento\n",
    "print(lista_de_jamaica[1:]) # imprime del segundo elemento de la lista en adelante"
   ]
  },
  {
   "cell_type": "code",
   "execution_count": 20,
   "metadata": {},
   "outputs": [
    {
     "data": {
      "text/plain": [
       "3"
      ]
     },
     "execution_count": 20,
     "metadata": {},
     "output_type": "execute_result"
    }
   ],
   "source": [
    "# Tamaño o número de elementos de la lista\n",
    "len(lista_de_jamaica)"
   ]
  },
  {
   "cell_type": "markdown",
   "metadata": {},
   "source": [
    "EJERCICIO 1.- Imprimir la longitud de las listas de estimación de éxito para Francia, Grecia y Marruecos"
   ]
  },
  {
   "cell_type": "code",
   "execution_count": 22,
   "metadata": {},
   "outputs": [
    {
     "name": "stdout",
     "output_type": "stream",
     "text": [
      "4\n",
      "6\n",
      "1\n"
     ]
    }
   ],
   "source": [
    "# Solucion.-\n",
    "print(len(estimados_de_exito['France']))\n",
    "print(len(estimados_de_exito['Greece']))\n",
    "print(len(estimados_de_exito['Morocco']))\n"
   ]
  },
  {
   "cell_type": "markdown",
   "metadata": {},
   "source": [
    "EJERCICIO 2.-\n",
    "¿Cuál de las siguientes opciones sería útil para almacenar las estimaciones de éxito de los proyectos si se\n",
    "dispusiera de ellas a nivel regional en lugar de a nivel de país?\n",
    "a) Lista\n",
    "b) Diccionario\n",
    "c) Float\n",
    "d) Cadena de caracteres (String)\n",
    "\n",
    "Solución.- En una lista de lista"
   ]
  },
  {
   "cell_type": "markdown",
   "metadata": {},
   "source": [
    "Cálculo del promedio de éxito de un país en específico\n",
    "Ejercicio 3 (5 min):\n",
    "Escriba un script (conjunto de líneas de código) para calcular el promedio de éxito de cada país. Imprima\n",
    "(usando print()) la estimación del promedio de éxito de cada país en la pantalla. Las declaraciones de\n",
    "impresión deben dar salida a cada país en una nueva línea, por ejemplo:\n",
    "País: Francia , Promedio: 0.655\n",
    "País: Brasil , Promedio: 0.29"
   ]
  },
  {
   "cell_type": "code",
   "execution_count": 31,
   "metadata": {},
   "outputs": [
    {
     "name": "stdout",
     "output_type": "stream",
     "text": [
      "País: Australia , Promedio: 0.29500000000000004\n",
      "País: France , Promedio: 0.655\n",
      "País: Italy , Promedio: 0.6\n",
      "País: Brazil , Promedio: 0.29\n",
      "País: USA , Promedio: 0.3333333333333333\n",
      "País: England , Promedio: 0.45\n",
      "País: Canada , Promedio: 0.275\n",
      "País: Argentina , Promedio: 0.22\n",
      "País: Greece , Promedio: 0.61\n",
      "País: Morocco , Promedio: 0.29\n",
      "País: Tunisia , Promedio: 0.6200000000000001\n",
      "País: Egypt , Promedio: 0.99\n",
      "País: Jamaica , Promedio: 0.6566666666666666\n",
      "País: Switzerland , Promedio: 0.7859999999999999\n",
      "País: Germany , Promedio: 0.4333333333333333\n"
     ]
    }
   ],
   "source": [
    "lista=list(estimados_de_exito.keys())\n",
    "\n",
    "for i in lista:\n",
    "    print(\"País: \"+i + \" , Promedio: \"+str(sum(estimados_de_exito[i])/len(estimados_de_exito[i])))\n",
    "\n"
   ]
  },
  {
   "cell_type": "markdown",
   "metadata": {},
   "source": [
    "Ejercicio 4 (4 min):\n",
    "Escriba un bucle for para calcular el mínimo y el máximo de la lista de estimaciones de éxito de cada país,\n",
    "imprimiendo cada una consecutivamente como en el ejemplo del anterior bucle for."
   ]
  },
  {
   "cell_type": "code",
   "execution_count": 34,
   "metadata": {},
   "outputs": [
    {
     "name": "stdout",
     "output_type": "stream",
     "text": [
      "País: Australia , mínimo: 0.11 , máximo: 0.6\n",
      "País: France , mínimo: 0.2 , máximo: 0.98\n",
      "País: Italy , mínimo: 0.6 , máximo: 0.6\n",
      "País: Brazil , mínimo: 0.22 , máximo: 0.43\n",
      "País: USA , mínimo: 0.2 , máximo: 0.5\n",
      "País: England , mínimo: 0.45 , máximo: 0.45\n",
      "País: Canada , mínimo: 0.25 , máximo: 0.3\n",
      "País: Argentina , mínimo: 0.22 , máximo: 0.22\n",
      "País: Greece , mínimo: 0.15 , máximo: 0.99\n",
      "País: Morocco , mínimo: 0.29 , máximo: 0.29\n",
      "País: Tunisia , mínimo: 0.56 , máximo: 0.68\n",
      "País: Egypt , mínimo: 0.99 , máximo: 0.99\n",
      "País: Jamaica , mínimo: 0.61 , máximo: 0.71\n",
      "País: Switzerland , mínimo: 0.51 , máximo: 0.99\n",
      "País: Germany , mínimo: 0.36 , máximo: 0.49\n"
     ]
    }
   ],
   "source": [
    "lista=list(estimados_de_exito.keys())\n",
    "\n",
    "for i in lista:\n",
    "    print(\"País: \"+i + \" , mínimo: \" +str(min(estimados_de_exito[i])) + \" , máximo: \"+str(max(estimados_de_exito[i])))"
   ]
  },
  {
   "cell_type": "markdown",
   "metadata": {},
   "source": [
    "Ejercicio 5 (4 min):\n",
    "Usando el bucle for, escriba el código para determinar el país con el mayor rango de estimaciones de éxito\n",
    "(es decir, la mayor diferencia entre la estimación más pequeña y la más grande para un país)."
   ]
  },
  {
   "cell_type": "code",
   "execution_count": 36,
   "metadata": {},
   "outputs": [
    {
     "name": "stdout",
     "output_type": "stream",
     "text": [
      "País: Australia , Rango de Éxito: 0.49\n",
      "País: France , Rango de Éxito: 0.78\n",
      "País: Italy , Rango de Éxito: 0.0\n",
      "País: Brazil , Rango de Éxito: 0.21\n",
      "País: USA , Rango de Éxito: 0.3\n",
      "País: England , Rango de Éxito: 0.0\n",
      "País: Canada , Rango de Éxito: 0.04999999999999999\n",
      "País: Argentina , Rango de Éxito: 0.0\n",
      "País: Greece , Rango de Éxito: 0.84\n",
      "País: Morocco , Rango de Éxito: 0.0\n",
      "País: Tunisia , Rango de Éxito: 0.12\n",
      "País: Egypt , Rango de Éxito: 0.0\n",
      "País: Jamaica , Rango de Éxito: 0.09999999999999998\n",
      "País: Switzerland , Rango de Éxito: 0.48\n",
      "País: Germany , Rango de Éxito: 0.13\n"
     ]
    }
   ],
   "source": [
    "lista=list(estimados_de_exito.keys())\n",
    "\n",
    "for i in lista:\n",
    "    print(\"País: \"+i + \" , Rango de Éxito: \" +str(max(estimados_de_exito[i]) -min(estimados_de_exito[i])))"
   ]
  },
  {
   "cell_type": "markdown",
   "metadata": {},
   "source": [
    "Usando “list comprehensions” para determinar el número de estimaciones\n",
    "Las list comprehension permiten construir una lista de forma concisa. Demos un vistazo a cómo funciona\n",
    "esto:"
   ]
  },
  {
   "cell_type": "code",
   "execution_count": 40,
   "metadata": {},
   "outputs": [
    {
     "data": {
      "text/plain": [
       "['Australia',\n",
       " 'France',\n",
       " 'Italy',\n",
       " 'Brazil',\n",
       " 'USA',\n",
       " 'England',\n",
       " 'Canada',\n",
       " 'Argentina',\n",
       " 'Greece',\n",
       " 'Morocco',\n",
       " 'Tunisia',\n",
       " 'Egypt',\n",
       " 'Jamaica',\n",
       " 'Switzerland',\n",
       " 'Germany']"
      ]
     },
     "execution_count": 40,
     "metadata": {},
     "output_type": "execute_result"
    }
   ],
   "source": [
    "lista_nombres_llave = [i for i in estimados_de_exito] # Pasa por cada elemento i en las estimaciones de éxito y lo coloca en la lista\n",
    "lista_nombres_llave"
   ]
  },
  {
   "cell_type": "code",
   "execution_count": 39,
   "metadata": {},
   "outputs": [
    {
     "data": {
      "text/plain": [
       "[[0.6, 0.33, 0.11, 0.14],\n",
       " [0.66, 0.78, 0.98, 0.2],\n",
       " [0.6],\n",
       " [0.22, 0.22, 0.43],\n",
       " [0.2, 0.5, 0.3],\n",
       " [0.45],\n",
       " [0.25, 0.3],\n",
       " [0.22],\n",
       " [0.45, 0.66, 0.75, 0.99, 0.15, 0.66],\n",
       " [0.29],\n",
       " [0.68, 0.56],\n",
       " [0.99],\n",
       " [0.61, 0.65, 0.71],\n",
       " [0.73, 0.86, 0.84, 0.51, 0.99],\n",
       " [0.45, 0.49, 0.36]]"
      ]
     },
     "execution_count": 39,
     "metadata": {},
     "output_type": "execute_result"
    }
   ],
   "source": [
    "lista_valores = [estimados_de_exito[pais] for pais in estimados_de_exito] # hace un,→bucle sobre cada elemento en \n",
    "#\"estimados_de_exito\" y pone \"estimados_de_exito[i]\" en la lista\n",
    "lista_valores\n"
   ]
  },
  {
   "cell_type": "code",
   "execution_count": 41,
   "metadata": {},
   "outputs": [
    {
     "data": {
      "text/plain": [
       "[['Australia', 4],\n",
       " ['France', 4],\n",
       " ['Italy', 1],\n",
       " ['Brazil', 3],\n",
       " ['USA', 3],\n",
       " ['England', 1],\n",
       " ['Canada', 2],\n",
       " ['Argentina', 1],\n",
       " ['Greece', 6],\n",
       " ['Morocco', 1],\n",
       " ['Tunisia', 2],\n",
       " ['Egypt', 1],\n",
       " ['Jamaica', 3],\n",
       " ['Switzerland', 5],\n",
       " ['Germany', 3]]"
      ]
     },
     "execution_count": 41,
     "metadata": {},
     "output_type": "execute_result"
    }
   ],
   "source": [
    "# Número de estimaciones disponibles para cada país\n",
    "[[i, len(estimados_de_exito[i])] for i in estimados_de_exito]"
   ]
  },
  {
   "cell_type": "markdown",
   "metadata": {},
   "source": [
    "Ejercicio 6 (3 min):\n",
    "Usando las “list comprehensions”, escriba un script (conjunto de líneas de código) para crear una lista de\n",
    "listas llamada lista_suma_cuadrados, donde cada elemento de la lista es una lista de dos elementos [nombre\n",
    "del país, valor]. El elemento de valor de la lista debe ser la suma de los cuadrados de las estimaciones de\n",
    "éxito de ese país. Por ejemplo, el elemento de la lista_suma_cuadrados correspondiente a Jamaica debe\n",
    "ser [Jamaica, 1.2987], (ya que 1.2987 = 0,61^2 + 0,65^2 + 0,71^2)."
   ]
  },
  {
   "cell_type": "code",
   "execution_count": 57,
   "metadata": {},
   "outputs": [
    {
     "data": {
      "text/plain": [
       "[['Australia', 0.5005999999999999],\n",
       " ['France', 2.0444],\n",
       " ['Italy', 0.36],\n",
       " ['Brazil', 0.28169999999999995],\n",
       " ['USA', 0.38],\n",
       " ['England', 0.2025],\n",
       " ['Canada', 0.1525],\n",
       " ['Argentina', 0.0484],\n",
       " ['Greece', 2.6388],\n",
       " ['Morocco', 0.0841],\n",
       " ['Tunisia', 0.7760000000000001],\n",
       " ['Egypt', 0.9801],\n",
       " ['Jamaica', 1.2987],\n",
       " ['Switzerland', 3.2183],\n",
       " ['Germany', 0.5722]]"
      ]
     },
     "execution_count": 57,
     "metadata": {},
     "output_type": "execute_result"
    }
   ],
   "source": [
    "[[i, sum([j**2 for j in estimados_de_exito[i]])] for i in estimados_de_exito]"
   ]
  },
  {
   "cell_type": "markdown",
   "metadata": {},
   "source": [
    "Ejercicio 7:\n",
    "Nos gustaría determinar la dispersión alrededor de la estimación media de éxito para cada país. Usando “list\n",
    "comprehensions”, escriba un script (conjunto de líneas de código) que reste la estimación media de éxito\n",
    "para un país dado de cada estimación de éxito para ese país. Almacene los resultados en una lista llamada\n",
    "lista_media_removida. Redondee los valores a dos decimales. Su salida debe producir la siguiente lista de\n",
    "listas:\n",
    "[[['Australia', [0.3, 0.03, -0.19, -0.16]],\n",
    "['Francia', [0.01, 0.12, 0.32, -0.46]],\n",
    "['Italia', [0.0]],\n",
    "['Brasil', [-0.07, -0.07, 0.14]],\n",
    "['USA', [-0.13, 0.17, -0.03]],\n",
    "['Inglaterra', [0.0]],\n",
    "['Canadá', [-0.03, 0.02]],\n",
    "['Argentina', [0.0]],\n",
    "['Grecia', [-0,16, 0,05, 0,14, 0,38, -0,46, 0,05]],\n",
    "['Marruecos', [0.0]],\n",
    "['Túnez', [0.06, -0.06]],\n",
    "['Egipto', [0.0]],\n",
    "['Jamaica', [-0.05, -0.01, 0.05]],\n",
    "['Suiza', [-0.06, 0.07, 0.05, -0.28, 0.2]],\n",
    "['Alemania', [0.02, 0.06, -0.07]]]"
   ]
  },
  {
   "cell_type": "code",
   "execution_count": 85,
   "metadata": {},
   "outputs": [
    {
     "data": {
      "text/plain": [
       "[['Australia', [0.3, 0.03, -0.19, -0.16]],\n",
       " ['France', [0.01, 0.12, 0.32, -0.46]],\n",
       " ['Italy', [0.0]],\n",
       " ['Brazil', [-0.07, -0.07, 0.14]],\n",
       " ['USA', [-0.13, 0.17, -0.03]],\n",
       " ['England', [0.0]],\n",
       " ['Canada', [-0.03, 0.02]],\n",
       " ['Argentina', [0.0]],\n",
       " ['Greece', [-0.16, 0.05, 0.14, 0.38, -0.46, 0.05]],\n",
       " ['Morocco', [0.0]],\n",
       " ['Tunisia', [0.06, -0.06]],\n",
       " ['Egypt', [0.0]],\n",
       " ['Jamaica', [-0.05, -0.01, 0.05]],\n",
       " ['Switzerland', [-0.06, 0.07, 0.05, -0.28, 0.2]],\n",
       " ['Germany', [0.02, 0.06, -0.07]]]"
      ]
     },
     "execution_count": 85,
     "metadata": {},
     "output_type": "execute_result"
    }
   ],
   "source": [
    "lista_media_removida=[[i, [round(j-sum(estimados_de_exito[i])/len(estimados_de_exito[i]),2) for j in estimados_de_exito[i]]] for i in estimados_de_exito]\n",
    "lista_media_removida"
   ]
  },
  {
   "cell_type": "markdown",
   "metadata": {},
   "source": [
    "Seleccionando sólo los países con múltiples observaciones para el potencial de expansión global\n",
    "Utilizaremos la declaración del if anterior para eliminar a los países con menos de una estimación de éxito.\n",
    "Convenientemente, para ver el resultado, almacenaremos las estimaciones medias para cada país en un nuevo\n",
    "diccionario media_pais:"
   ]
  },
  {
   "cell_type": "code",
   "execution_count": 91,
   "metadata": {},
   "outputs": [
    {
     "name": "stdout",
     "output_type": "stream",
     "text": [
      "adicionando la media para  Australia\n",
      "adicionando la media para  France\n",
      "....saliendo  Italy\n",
      "adicionando la media para  Brazil\n",
      "adicionando la media para  USA\n",
      "....saliendo  England\n",
      "adicionando la media para  Canada\n",
      "....saliendo  Argentina\n",
      "adicionando la media para  Greece\n",
      "....saliendo  Morocco\n",
      "adicionando la media para  Tunisia\n",
      "....saliendo  Egypt\n",
      "adicionando la media para  Jamaica\n",
      "adicionando la media para  Switzerland\n",
      "adicionando la media para  Germany\n"
     ]
    }
   ],
   "source": [
    "# Obtiene una lista de todos los nombres de los países\n",
    "lista_nombres_paises = list(estimados_de_exito.keys())\n",
    "# Crea un diccionario vacío para guardar las estimaciones de las medias de los países\n",
    "media_paises = {}\n",
    "# Pasa por todos los países y calcula su promedio de éxito estimado\n",
    "for i in lista_nombres_paises:\n",
    "    lista_estimado_paises = estimados_de_exito[i] # lista de estimaciones para un país\n",
    "    # si se estima más de un país, entonces registra la estimación media, si no, pasa a la siguiente iteración del bucle\n",
    "    if len(estimados_de_exito[i]) > 1:\n",
    "        print(\"adicionando la media para \",i)\n",
    "        valor_media_pais = sum(lista_estimado_paises) / len(lista_estimado_paises)\n",
    "        media_paises[i] = valor_media_pais # inserta el valor medio del país en el diccionario usando el nombre del país como llave\n",
    "    else:\n",
    "        print(\"....saliendo \", i)"
   ]
  },
  {
   "cell_type": "code",
   "execution_count": 93,
   "metadata": {},
   "outputs": [
    {
     "name": "stdout",
     "output_type": "stream",
     "text": [
      "País: Australia, Promedio de estimados de éxito: 0.30\n",
      "País: France, Promedio de estimados de éxito: 0.66\n",
      "País: Brazil, Promedio de estimados de éxito: 0.29\n",
      "País: USA, Promedio de estimados de éxito: 0.33\n",
      "País: Canada, Promedio de estimados de éxito: 0.28\n",
      "País: Greece, Promedio de estimados de éxito: 0.61\n",
      "País: Tunisia, Promedio de estimados de éxito: 0.62\n",
      "País: Jamaica, Promedio de estimados de éxito: 0.66\n",
      "País: Switzerland, Promedio de estimados de éxito: 0.79\n",
      "País: Germany, Promedio de estimados de éxito: 0.43\n"
     ]
    }
   ],
   "source": [
    "# Formato agradable del resultado para imprimirlo en la pantalla\n",
    "for llave_pais in media_paises:\n",
    "    print(\"País: {0:s}, Promedio de estimados de éxito: {1:.2f}\".format(llave_pais,media_paises[llave_pais]))"
   ]
  },
  {
   "cell_type": "markdown",
   "metadata": {},
   "source": [
    "Ejercicio 8:\n",
    "Después de revisar la política de la compañía sobre procedimientos estadísticos, notará que la compañía recomienda que todas las estimaciones (promedios, mínimos, máximos) deben tener por lo menos tres valores que contribuyan a la estadística de resumen. Escriba un bucle for y utilice la estructura de condicionales if para seleccionar e imprimir las estimaciones promedio de éxito para los países que satisfacen esta política. Si el país no satisface la política, imprima el nombre del país y *No cumple con la política de la compañía*. Cada país debe aparecer en una nueva línea."
   ]
  },
  {
   "cell_type": "code",
   "execution_count": 96,
   "metadata": {},
   "outputs": [
    {
     "name": "stdout",
     "output_type": "stream",
     "text": [
      "País: Australia, Promedio estimado de exito 0.30\n",
      "País: France, Promedio estimado de exito 0.66\n",
      "País Italy *No cumple con la política de la compañía*\n",
      "País: Brazil, Promedio estimado de exito 0.29\n",
      "País: USA, Promedio estimado de exito 0.33\n",
      "País England *No cumple con la política de la compañía*\n",
      "País: Canada, Promedio estimado de exito 0.28\n",
      "País Argentina *No cumple con la política de la compañía*\n",
      "País: Greece, Promedio estimado de exito 0.61\n",
      "País Morocco *No cumple con la política de la compañía*\n",
      "País: Tunisia, Promedio estimado de exito 0.62\n",
      "País Egypt *No cumple con la política de la compañía*\n",
      "País: Jamaica, Promedio estimado de exito 0.66\n",
      "País: Switzerland, Promedio estimado de exito 0.79\n",
      "País: Germany, Promedio estimado de exito 0.43\n"
     ]
    }
   ],
   "source": [
    "for i in lista_nombres_paises:\n",
    "    if(len(estimados_de_exito[i]) > 1):\n",
    "        print(\"País: {0:s}, Promedio estimado de exito {1:.2f}\".format(i,sum(estimados_de_exito[i])/len(estimados_de_exito[i])))\n",
    "    else:\n",
    "        print(\"País \"+ i +\" *No cumple con la política de la compañía*\")\n"
   ]
  },
  {
   "cell_type": "markdown",
   "metadata": {},
   "source": [
    "Ejercicio 9:\n",
    "Además de la política anterior, la empresa quiere señalar a los países en los que el rango de estimaciones es\n",
    "demasiado grande, ya que esto suele deberse a que las estimaciones se toman en momentos muy diferentes,\n",
    "o que contienen errores. Quieren prestar especial atención a los casos en que el rango (la diferencia entre las\n",
    "estimaciones más grandes y las más pequeñas) es mayor de 0,6. Calculen el rango para cada país e indiquen\n",
    "si debe ser marcado."
   ]
  },
  {
   "cell_type": "code",
   "execution_count": 99,
   "metadata": {},
   "outputs": [
    {
     "name": "stdout",
     "output_type": "stream",
     "text": [
      "País: France, Rango estimado de exito 0.78 Debe ser revisado\n",
      "País: Greece, Rango estimado de exito 0.84 Debe ser revisado\n"
     ]
    }
   ],
   "source": [
    "for i in lista_nombres_paises:\n",
    "    if((max(estimados_de_exito[i])-min(estimados_de_exito[i]))>0.6):\n",
    "        print(\"País: {0:s}, Rango estimado de exito {1:.2f}\".format(i,max(estimados_de_exito[i])-min(estimados_de_exito[i]))+\" Debe ser revisado\")"
   ]
  },
  {
   "cell_type": "markdown",
   "metadata": {},
   "source": [
    "Ejercicio 10 (5 min):\n",
    "¿Cuál es otro enfoque para resolver el problema de la muestra única para algunos países? Piense en términos\n",
    "de los factores que impulsan la confianza en las decisiones comerciales basadas en datos.\n",
    "a) Agrupar los países en regiones más grandes para asegurarse de que cada región tenga al menos una\n",
    "estimación\n",
    "b) Retirar un país sólo si sus previsiones son muy grandes o muy pequeñas en comparación con otras\n",
    "previsiones\n",
    "c) Utilizar una estadística resumida diferente para el análisis que no sea el valor medio\n",
    "d) Volver a examinar por qué algunos países sólo tienen una estimación y ver si se pueden obtener más\n",
    "datos para esos países"
   ]
  },
  {
   "cell_type": "markdown",
   "metadata": {},
   "source": [
    "a) parece un buen enfoque, sin embargo, no logrará la tarea en cuestión. La tarea es encontrar un país específico para la expansión global, no una región. Por lo tanto, si uno reagrupa países en regiones, primero tendría que redefinir el enunciado del problema.\n",
    "b) es un método incorrecto para manejar este conjunto de datos en particular, ya que las estadísticas de los países deben calcularse independientemente de otros países. Si las estimaciones de un país dependen de otro, esto podría complicar significativamente el análisis y probablemente requeriría una investigación más compleja y costosa.\n",
    "c) el uso de una estadística de resumen diferente no resolverá el problema de tener una muestra para el cálculo estadístico. Nos gustaría tener más confianza en nuestra estimación estadística. El uso de una medida de éxito diferente, como la estimación mínima o máxima, no resolverá el problema del tamaño de muestra única.\n",
    "d) ES LA RESPUESTA"
   ]
  },
  {
   "cell_type": "markdown",
   "metadata": {},
   "source": [
    "Ejercicio 11: (5 min)\n",
    "Escriba el código para imprimir el nombre de cada país y el resumen de las estadísticas. Cada línea debe\n",
    "mostrar un país y las correspondientes estadísticas resumidas: Estimación mínima (float), estimación media\n",
    "(float), estimación máxima (float), número de estimaciones (int), cumple con la política de la empresa de al\n",
    "menos 3 estimaciones (bool).\n",
    "Por ejemplo, la línea correspondiente a Francia aparecería como:\n",
    "País: Francia , Min: 0,2 , Promedio: 0,655 , Máximo: 0,98 , NúmEst: 4 , Cumple con la política: True"
   ]
  },
  {
   "cell_type": "code",
   "execution_count": 116,
   "metadata": {},
   "outputs": [
    {
     "name": "stdout",
     "output_type": "stream",
     "text": [
      "País: Australia , Mínimo: 0.11 , Promedio: 0.3 , Máximo: 0.6 , Datos: 4 , Cumple política: True\n",
      "País: France , Mínimo: 0.2 , Promedio: 0.66 , Máximo: 0.98 , Datos: 4 , Cumple política: True\n",
      "País: Italy , Mínimo: 0.6 , Promedio: 0.6 , Máximo: 0.6 , Datos: 1 , Cumple política: False\n",
      "País: Brazil , Mínimo: 0.22 , Promedio: 0.29 , Máximo: 0.43 , Datos: 3 , Cumple política: True\n",
      "País: USA , Mínimo: 0.2 , Promedio: 0.33 , Máximo: 0.5 , Datos: 3 , Cumple política: True\n",
      "País: England , Mínimo: 0.45 , Promedio: 0.45 , Máximo: 0.45 , Datos: 1 , Cumple política: False\n",
      "País: Canada , Mínimo: 0.25 , Promedio: 0.28 , Máximo: 0.3 , Datos: 2 , Cumple política: False\n",
      "País: Argentina , Mínimo: 0.22 , Promedio: 0.22 , Máximo: 0.22 , Datos: 1 , Cumple política: False\n",
      "País: Greece , Mínimo: 0.15 , Promedio: 0.61 , Máximo: 0.99 , Datos: 6 , Cumple política: True\n",
      "País: Morocco , Mínimo: 0.29 , Promedio: 0.29 , Máximo: 0.29 , Datos: 1 , Cumple política: False\n",
      "País: Tunisia , Mínimo: 0.56 , Promedio: 0.62 , Máximo: 0.68 , Datos: 2 , Cumple política: False\n",
      "País: Egypt , Mínimo: 0.99 , Promedio: 0.99 , Máximo: 0.99 , Datos: 1 , Cumple política: False\n",
      "País: Jamaica , Mínimo: 0.61 , Promedio: 0.66 , Máximo: 0.71 , Datos: 3 , Cumple política: True\n",
      "País: Switzerland , Mínimo: 0.51 , Promedio: 0.79 , Máximo: 0.99 , Datos: 5 , Cumple política: True\n",
      "País: Germany , Mínimo: 0.36 , Promedio: 0.43 , Máximo: 0.49 , Datos: 3 , Cumple política: True\n"
     ]
    }
   ],
   "source": [
    "for i in lista_nombres_paises:\n",
    "    print(\"País: \"+i+\" , Mínimo: \"+str(round(min(estimados_de_exito[i]),2)) + \" , Promedio: \"+ str(round(sum(estimados_de_exito[i])/len(estimados_de_exito[i]),2))+\" , Máximo: \"+str(round(max(estimados_de_exito[i]),2))+\" , Datos: \"+str(len(estimados_de_exito[i]))+\" , Cumple política: \"+str(len(estimados_de_exito[i])>2))"
   ]
  },
  {
   "cell_type": "markdown",
   "metadata": {},
   "source": [
    "Ejercicio 12: (10 min)\n",
    "Podemos ver que Suiza tiene el promedio más alto mirando todos los valores, pero demos un paso más y hagamos que Python nos lo calcule.Vuelva a revisar los datos, pero haga un seguimiento del mejor país que cumple con la política y obtengadatos de salida sólo de este país."
   ]
  },
  {
   "cell_type": "code",
   "execution_count": 123,
   "metadata": {},
   "outputs": [
    {
     "name": "stdout",
     "output_type": "stream",
     "text": [
      "El mejor país es: ['Switzerland'] , con un promedio de: 0.79\n"
     ]
    }
   ],
   "source": [
    "Mejor_pais=None\n",
    "mejor_promedio=0\n",
    "for i in lista_nombres_paises:\n",
    "    if(sum(estimados_de_exito[i])/len(estimados_de_exito[i])>mejor_promedio and len(estimados_de_exito[i])>2):\n",
    "        Mejor_pais=[i]\n",
    "        mejor_promedio=sum(estimados_de_exito[i])/len(estimados_de_exito[i])\n",
    "print(\"El mejor país es: \"+ str(Mejor_pais)+\" , con un promedio de: \"+str(round(mejor_promedio,2)))\n"
   ]
  },
  {
   "cell_type": "markdown",
   "metadata": {},
   "source": [
    "Ejercicio 13: (10 min)\n",
    "Encontramos el mejor país en promedio, pero también estamos interesados en la elección más segura o más conservadora. Esto se define mirando sólo al mínimo (es decir, el más pesimista) estimado para cada país y tomando el más alto de aquellos (considerando sólo aquellos que cumplen con la política). Escriba el código para determinar y producir los datos sobre este país."
   ]
  },
  {
   "cell_type": "code",
   "execution_count": 125,
   "metadata": {},
   "outputs": [
    {
     "name": "stdout",
     "output_type": "stream",
     "text": [
      "El mejor país es: ['Jamaica'] , con un mínimo de: 0.61\n"
     ]
    }
   ],
   "source": [
    "Mejor_Pais=None\n",
    "Mejor_Minimo=0\n",
    "for i in lista_nombres_paises:\n",
    "    if(min(estimados_de_exito[i])>Mejor_Minimo and len(estimados_de_exito[i])>2):\n",
    "        Mejor_Pais=[i]\n",
    "        Mejor_Minimo=min(estimados_de_exito[i])\n",
    "print(\"El mejor país es: \"+ str(Mejor_Pais)+\" , con un mínimo de: \"+str(round(Mejor_Minimo,2)))"
   ]
  },
  {
   "cell_type": "code",
   "execution_count": null,
   "metadata": {},
   "outputs": [],
   "source": []
  }
 ],
 "metadata": {
  "kernelspec": {
   "display_name": "Python 3",
   "language": "python",
   "name": "python3"
  },
  "language_info": {
   "codemirror_mode": {
    "name": "ipython",
    "version": 3
   },
   "file_extension": ".py",
   "mimetype": "text/x-python",
   "name": "python",
   "nbconvert_exporter": "python",
   "pygments_lexer": "ipython3",
   "version": "3.7.4"
  }
 },
 "nbformat": 4,
 "nbformat_minor": 2
}
